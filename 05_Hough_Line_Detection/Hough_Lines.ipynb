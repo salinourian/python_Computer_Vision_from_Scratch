{
 "cells": [
  {
   "cell_type": "markdown",
   "metadata": {},
   "source": [
    "### Hough Lines"
   ]
  },
  {
   "cell_type": "code",
   "execution_count": 1,
   "metadata": {
    "collapsed": true
   },
   "outputs": [],
   "source": [
    "%matplotlib inline\n",
    "import cv2\n",
    "import matplotlib.pyplot as plt\n",
    "import matplotlib.colors\n",
    "import numpy as np\n",
    "from PIL import Image\n",
    "from skimage import data\n",
    "import scipy\n",
    "import math\n",
    "from scipy.ndimage import measurements\n",
    "from skimage import data\n",
    "from ipywidgets import interact, fixed, FloatSlider, IntSlider,FloatRangeSlider, Label"
   ]
  },
  {
   "cell_type": "code",
   "execution_count": 2,
   "metadata": {
    "collapsed": true
   },
   "outputs": [],
   "source": [
    "def display_line_result(og_img, hough_img, edges):\n",
    "    \n",
    "    current_image=data.checkerboard()\n",
    "    w, h = current_image.shape\n",
    "    output_image = np.empty((w, h, 3))\n",
    "    edges = cv2.Canny(current_image,50,150,apertureSize =3)\n",
    "    output_image[:, :, 2] =  output_image[:, :, 1] =  output_image[:, :, 0] =  current_image/255.\n",
    "    lines = cv2.HoughLines(edges,1,np.pi/180,120)\n",
    "    max_size=max(w,h)**2\n",
    "    for rho_theta in lines:\n",
    "        rho=rho_theta[0][0]\n",
    "        theta=rho_theta[0][1]\n",
    "        a = np.cos(theta)\n",
    "        b = np.sin(theta)\n",
    "        x0 = a*rho\n",
    "        y0 = b*rho\n",
    "        x1 = int(x0 + max_size*(-b))\n",
    "        y1 = int(y0 + max_size*(a))\n",
    "        x2 = int(x0 - max_size*(-b))\n",
    "        y2 = int(y0 - max_size*(a))\n",
    "        cv2.line(output_image,(x1,y1),(x2,y2),(1,0,0),1)\n",
    "    \n",
    "    \n",
    "    fig2, axes_array = plt.subplots(1, 4)\n",
    "    fig2.set_size_inches(9,3)\n",
    "    image_plot = axes_array[0].imshow(og_img,cmap=plt.cm.gray) \n",
    "    axes_array[0].axis('off')\n",
    "    axes_array[0].set(title='Original Image')\n",
    "    image_plot = axes_array[1].imshow(edges,cmap=plt.cm.gray)\n",
    "    axes_array[1].axis('off')\n",
    "    axes_array[1].set(title='Edged Image')\n",
    "    image_plot = axes_array[2].imshow(hough_img)\n",
    "    axes_array[2].axis('off')\n",
    "    axes_array[2].set(title='Hough Lines Image')\n",
    "    image_plot = axes_array[3].imshow(output_image)\n",
    "    axes_array[3].axis('off')\n",
    "    axes_array[3].set(title='Hough Lines Open CV')\n",
    "    plt.show()\n",
    "    return"
   ]
  },
  {
   "cell_type": "code",
   "execution_count": 3,
   "metadata": {
    "collapsed": true
   },
   "outputs": [],
   "source": [
    "def get_canny(og_img):\n",
    "    edged_image = cv2.Canny(og_img,50,150,apertureSize = 3)#current_image=data.checkerboard()\n",
    "    return edged_image"
   ]
  },
  {
   "cell_type": "code",
   "execution_count": 4,
   "metadata": {},
   "outputs": [
    {
     "name": "stderr",
     "output_type": "stream",
     "text": [
      "C:\\Anaconda3\\lib\\site-packages\\traitlets\\traitlets.py:567: FutureWarning: comparison to `None` will result in an elementwise object comparison in the future.\n",
      "  silent = bool(old_value == new_value)\n"
     ]
    },
    {
     "data": {
      "application/vnd.jupyter.widget-view+json": {
       "model_id": "e1431d81a7c14934b8161fed50f87db8"
      }
     },
     "metadata": {},
     "output_type": "display_data"
    },
    {
     "data": {
      "text/plain": [
       "<function __main__.hough_lines>"
      ]
     },
     "execution_count": 4,
     "metadata": {},
     "output_type": "execute_result"
    }
   ],
   "source": [
    "def hough_lines(og_img,rho_resolution,theta_resolution,threshold):\n",
    "    rho_theta_values = []\n",
    "    width, height = og_img.shape\n",
    "    hough_img = np.empty((width, height, 3))\n",
    "    hough_img[:, :, 2] =  hough_img[:, :, 1] =  hough_img[:, :, 0] =  og_img/255.\n",
    "    \n",
    "    digonal = math.sqrt(width*width + height*height)\n",
    "    max_size=max(width,height)**2\n",
    "    \n",
    "    thetas = np.linspace(0,180,theta_resolution+1)\n",
    "    rhos = np.linspace(-digonal,digonal,rho_resolution+1)\n",
    "   \n",
    "    acc = np.zeros((rho_resolution+1,theta_resolution+1))\n",
    "\n",
    "    for x_index in range(0, width):\n",
    "        for y_index in range(0, height):\n",
    "            if edges[x_index][y_index] > 0:\n",
    "                for t_index in range(0, len(thetas)):\n",
    "                    rho = x_index * math.cos(thetas[t_index]) + y_index * math.sin(thetas[t_index])\n",
    "                    for r_index in range(0, len(rhos)):\n",
    "                        if rhos[r_index]>rho:\n",
    "                            break\n",
    "                    acc[r_index][t_index] += 1\n",
    "   \n",
    "    for rho_value in range(0, len(rhos)):\n",
    "        for t_value in range(0, len(thetas)):\n",
    "            if acc[rho_value][t_value] >= threshold:\n",
    "                rho_theta_values.append([rhos[rho_value], thetas[t_value]])\n",
    "\n",
    "    \n",
    "    for rho_theta in rho_theta_values:\n",
    "        rho=rho_theta[0]\n",
    "        theta=rho_theta[1]\n",
    "        a = np.cos(theta)\n",
    "        b = np.sin(theta)\n",
    "        x0 = a*rho\n",
    "        y0 = b*rho\n",
    "        x1 = int(x0 + max_size*(-b))\n",
    "        y1 = int(y0 + max_size*(a))\n",
    "        x2 = int(x0 - max_size*(-b))\n",
    "        y2 = int(y0 - max_size*(a))\n",
    "        cv2.line(hough_img,(x1,y1),(x2,y2),(1,0,0),1)\n",
    "    \n",
    "    display_line_result(og_img, hough_img, edges)\n",
    "    return\n",
    "    \n",
    "og_img = data.checkerboard()\n",
    "edges = get_canny(og_img)\n",
    "\n",
    "interact(hough_lines,\n",
    "         og_img = fixed(og_img),\n",
    "         rho_resolution=IntSlider(min=10, max=1000, step=1,value=150,continuous_update=False),\n",
    "         theta_resolution=IntSlider(min=10, max=1000, step=1,value=360,continuous_update=False),\n",
    "         threshold=IntSlider(min=5, max=1000, step=1,value=180,continuous_update=False)) "
   ]
  }
 ],
 "metadata": {
  "kernelspec": {
   "display_name": "Python [Root]",
   "language": "python",
   "name": "Python [Root]"
  },
  "language_info": {
   "codemirror_mode": {
    "name": "ipython",
    "version": 3
   },
   "file_extension": ".py",
   "mimetype": "text/x-python",
   "name": "python",
   "nbconvert_exporter": "python",
   "pygments_lexer": "ipython3",
   "version": "3.5.2"
  }
 },
 "nbformat": 4,
 "nbformat_minor": 1
}
